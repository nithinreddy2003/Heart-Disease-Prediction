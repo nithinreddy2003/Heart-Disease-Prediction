{
  "nbformat": 4,
  "nbformat_minor": 0,
  "metadata": {
    "colab": {
      "name": "Heart Disease App.ipynb",
      "provenance": [],
      "collapsed_sections": []
    },
    "kernelspec": {
      "name": "python3",
      "display_name": "Python 3"
    },
    "language_info": {
      "name": "python"
    }
  },
  "cells": [
    {
      "cell_type": "code",
      "execution_count": 29,
      "metadata": {
        "id": "ydQxec18ND5S"
      },
      "outputs": [],
      "source": [
        "import pandas as pd"
      ]
    },
    {
      "cell_type": "code",
      "source": [
        "data=pd.read_csv('/content/drive/MyDrive/hdp.csv')"
      ],
      "metadata": {
        "id": "pG3H3XkXPLtZ"
      },
      "execution_count": 30,
      "outputs": []
    },
    {
      "cell_type": "code",
      "source": [
        "data"
      ],
      "metadata": {
        "colab": {
          "base_uri": "https://localhost:8080/",
          "height": 424
        },
        "id": "w2H2SMwoPVog",
        "outputId": "7f607bed-23c0-4b04-fd73-dc4c2db498fe"
      },
      "execution_count": 31,
      "outputs": [
        {
          "output_type": "execute_result",
          "data": {
            "text/plain": [
              "      age  cigsPerDay     totChol       sysBP       diaBP        BMI  \\\n",
              "0      45    3.000000  250.000000  130.000000   80.000000  20.240000   \n",
              "1      34    0.000000  227.000000  131.500000   84.000000  25.410000   \n",
              "2      43    0.000000  228.000000  180.000000  110.000000  30.300000   \n",
              "3      43   20.000000  208.000000  119.000000   69.000000  19.480000   \n",
              "4      44   23.000000  272.000000  115.000000   76.000000  24.160000   \n",
              "...   ...         ...         ...         ...         ...        ...   \n",
              "5716   50    2.539805  240.301746  128.666795   83.873010  25.589772   \n",
              "5717   50   24.155357  262.324285  137.700982   90.415536  22.648086   \n",
              "5718   55    0.000000  177.496833  147.124525   97.246517  26.937312   \n",
              "5719   60    0.000000  182.954974  150.225132   86.030018  25.012778   \n",
              "5720   51    0.000000  201.643177  134.215885   92.929531  29.359083   \n",
              "\n",
              "      heartRate    glucose  TenYearCHD  \n",
              "0     90.000000  86.000000           0  \n",
              "1     60.000000  87.000000           0  \n",
              "2     77.000000  99.000000           0  \n",
              "3     67.000000  73.000000           0  \n",
              "4     80.000000  77.000000           0  \n",
              "...         ...        ...         ...  \n",
              "5716  67.015922  89.777863           1  \n",
              "5717  97.844643  83.493214           1  \n",
              "5718  69.499367  72.753483           1  \n",
              "5719  66.030018  70.105061           1  \n",
              "5720  82.464765  68.605704           1  \n",
              "\n",
              "[5721 rows x 9 columns]"
            ],
            "text/html": [
              "\n",
              "  <div id=\"df-7dccb58f-36d0-4710-9c17-e85a63474624\">\n",
              "    <div class=\"colab-df-container\">\n",
              "      <div>\n",
              "<style scoped>\n",
              "    .dataframe tbody tr th:only-of-type {\n",
              "        vertical-align: middle;\n",
              "    }\n",
              "\n",
              "    .dataframe tbody tr th {\n",
              "        vertical-align: top;\n",
              "    }\n",
              "\n",
              "    .dataframe thead th {\n",
              "        text-align: right;\n",
              "    }\n",
              "</style>\n",
              "<table border=\"1\" class=\"dataframe\">\n",
              "  <thead>\n",
              "    <tr style=\"text-align: right;\">\n",
              "      <th></th>\n",
              "      <th>age</th>\n",
              "      <th>cigsPerDay</th>\n",
              "      <th>totChol</th>\n",
              "      <th>sysBP</th>\n",
              "      <th>diaBP</th>\n",
              "      <th>BMI</th>\n",
              "      <th>heartRate</th>\n",
              "      <th>glucose</th>\n",
              "      <th>TenYearCHD</th>\n",
              "    </tr>\n",
              "  </thead>\n",
              "  <tbody>\n",
              "    <tr>\n",
              "      <th>0</th>\n",
              "      <td>45</td>\n",
              "      <td>3.000000</td>\n",
              "      <td>250.000000</td>\n",
              "      <td>130.000000</td>\n",
              "      <td>80.000000</td>\n",
              "      <td>20.240000</td>\n",
              "      <td>90.000000</td>\n",
              "      <td>86.000000</td>\n",
              "      <td>0</td>\n",
              "    </tr>\n",
              "    <tr>\n",
              "      <th>1</th>\n",
              "      <td>34</td>\n",
              "      <td>0.000000</td>\n",
              "      <td>227.000000</td>\n",
              "      <td>131.500000</td>\n",
              "      <td>84.000000</td>\n",
              "      <td>25.410000</td>\n",
              "      <td>60.000000</td>\n",
              "      <td>87.000000</td>\n",
              "      <td>0</td>\n",
              "    </tr>\n",
              "    <tr>\n",
              "      <th>2</th>\n",
              "      <td>43</td>\n",
              "      <td>0.000000</td>\n",
              "      <td>228.000000</td>\n",
              "      <td>180.000000</td>\n",
              "      <td>110.000000</td>\n",
              "      <td>30.300000</td>\n",
              "      <td>77.000000</td>\n",
              "      <td>99.000000</td>\n",
              "      <td>0</td>\n",
              "    </tr>\n",
              "    <tr>\n",
              "      <th>3</th>\n",
              "      <td>43</td>\n",
              "      <td>20.000000</td>\n",
              "      <td>208.000000</td>\n",
              "      <td>119.000000</td>\n",
              "      <td>69.000000</td>\n",
              "      <td>19.480000</td>\n",
              "      <td>67.000000</td>\n",
              "      <td>73.000000</td>\n",
              "      <td>0</td>\n",
              "    </tr>\n",
              "    <tr>\n",
              "      <th>4</th>\n",
              "      <td>44</td>\n",
              "      <td>23.000000</td>\n",
              "      <td>272.000000</td>\n",
              "      <td>115.000000</td>\n",
              "      <td>76.000000</td>\n",
              "      <td>24.160000</td>\n",
              "      <td>80.000000</td>\n",
              "      <td>77.000000</td>\n",
              "      <td>0</td>\n",
              "    </tr>\n",
              "    <tr>\n",
              "      <th>...</th>\n",
              "      <td>...</td>\n",
              "      <td>...</td>\n",
              "      <td>...</td>\n",
              "      <td>...</td>\n",
              "      <td>...</td>\n",
              "      <td>...</td>\n",
              "      <td>...</td>\n",
              "      <td>...</td>\n",
              "      <td>...</td>\n",
              "    </tr>\n",
              "    <tr>\n",
              "      <th>5716</th>\n",
              "      <td>50</td>\n",
              "      <td>2.539805</td>\n",
              "      <td>240.301746</td>\n",
              "      <td>128.666795</td>\n",
              "      <td>83.873010</td>\n",
              "      <td>25.589772</td>\n",
              "      <td>67.015922</td>\n",
              "      <td>89.777863</td>\n",
              "      <td>1</td>\n",
              "    </tr>\n",
              "    <tr>\n",
              "      <th>5717</th>\n",
              "      <td>50</td>\n",
              "      <td>24.155357</td>\n",
              "      <td>262.324285</td>\n",
              "      <td>137.700982</td>\n",
              "      <td>90.415536</td>\n",
              "      <td>22.648086</td>\n",
              "      <td>97.844643</td>\n",
              "      <td>83.493214</td>\n",
              "      <td>1</td>\n",
              "    </tr>\n",
              "    <tr>\n",
              "      <th>5718</th>\n",
              "      <td>55</td>\n",
              "      <td>0.000000</td>\n",
              "      <td>177.496833</td>\n",
              "      <td>147.124525</td>\n",
              "      <td>97.246517</td>\n",
              "      <td>26.937312</td>\n",
              "      <td>69.499367</td>\n",
              "      <td>72.753483</td>\n",
              "      <td>1</td>\n",
              "    </tr>\n",
              "    <tr>\n",
              "      <th>5719</th>\n",
              "      <td>60</td>\n",
              "      <td>0.000000</td>\n",
              "      <td>182.954974</td>\n",
              "      <td>150.225132</td>\n",
              "      <td>86.030018</td>\n",
              "      <td>25.012778</td>\n",
              "      <td>66.030018</td>\n",
              "      <td>70.105061</td>\n",
              "      <td>1</td>\n",
              "    </tr>\n",
              "    <tr>\n",
              "      <th>5720</th>\n",
              "      <td>51</td>\n",
              "      <td>0.000000</td>\n",
              "      <td>201.643177</td>\n",
              "      <td>134.215885</td>\n",
              "      <td>92.929531</td>\n",
              "      <td>29.359083</td>\n",
              "      <td>82.464765</td>\n",
              "      <td>68.605704</td>\n",
              "      <td>1</td>\n",
              "    </tr>\n",
              "  </tbody>\n",
              "</table>\n",
              "<p>5721 rows × 9 columns</p>\n",
              "</div>\n",
              "      <button class=\"colab-df-convert\" onclick=\"convertToInteractive('df-7dccb58f-36d0-4710-9c17-e85a63474624')\"\n",
              "              title=\"Convert this dataframe to an interactive table.\"\n",
              "              style=\"display:none;\">\n",
              "        \n",
              "  <svg xmlns=\"http://www.w3.org/2000/svg\" height=\"24px\"viewBox=\"0 0 24 24\"\n",
              "       width=\"24px\">\n",
              "    <path d=\"M0 0h24v24H0V0z\" fill=\"none\"/>\n",
              "    <path d=\"M18.56 5.44l.94 2.06.94-2.06 2.06-.94-2.06-.94-.94-2.06-.94 2.06-2.06.94zm-11 1L8.5 8.5l.94-2.06 2.06-.94-2.06-.94L8.5 2.5l-.94 2.06-2.06.94zm10 10l.94 2.06.94-2.06 2.06-.94-2.06-.94-.94-2.06-.94 2.06-2.06.94z\"/><path d=\"M17.41 7.96l-1.37-1.37c-.4-.4-.92-.59-1.43-.59-.52 0-1.04.2-1.43.59L10.3 9.45l-7.72 7.72c-.78.78-.78 2.05 0 2.83L4 21.41c.39.39.9.59 1.41.59.51 0 1.02-.2 1.41-.59l7.78-7.78 2.81-2.81c.8-.78.8-2.07 0-2.86zM5.41 20L4 18.59l7.72-7.72 1.47 1.35L5.41 20z\"/>\n",
              "  </svg>\n",
              "      </button>\n",
              "      \n",
              "  <style>\n",
              "    .colab-df-container {\n",
              "      display:flex;\n",
              "      flex-wrap:wrap;\n",
              "      gap: 12px;\n",
              "    }\n",
              "\n",
              "    .colab-df-convert {\n",
              "      background-color: #E8F0FE;\n",
              "      border: none;\n",
              "      border-radius: 50%;\n",
              "      cursor: pointer;\n",
              "      display: none;\n",
              "      fill: #1967D2;\n",
              "      height: 32px;\n",
              "      padding: 0 0 0 0;\n",
              "      width: 32px;\n",
              "    }\n",
              "\n",
              "    .colab-df-convert:hover {\n",
              "      background-color: #E2EBFA;\n",
              "      box-shadow: 0px 1px 2px rgba(60, 64, 67, 0.3), 0px 1px 3px 1px rgba(60, 64, 67, 0.15);\n",
              "      fill: #174EA6;\n",
              "    }\n",
              "\n",
              "    [theme=dark] .colab-df-convert {\n",
              "      background-color: #3B4455;\n",
              "      fill: #D2E3FC;\n",
              "    }\n",
              "\n",
              "    [theme=dark] .colab-df-convert:hover {\n",
              "      background-color: #434B5C;\n",
              "      box-shadow: 0px 1px 3px 1px rgba(0, 0, 0, 0.15);\n",
              "      filter: drop-shadow(0px 1px 2px rgba(0, 0, 0, 0.3));\n",
              "      fill: #FFFFFF;\n",
              "    }\n",
              "  </style>\n",
              "\n",
              "      <script>\n",
              "        const buttonEl =\n",
              "          document.querySelector('#df-7dccb58f-36d0-4710-9c17-e85a63474624 button.colab-df-convert');\n",
              "        buttonEl.style.display =\n",
              "          google.colab.kernel.accessAllowed ? 'block' : 'none';\n",
              "\n",
              "        async function convertToInteractive(key) {\n",
              "          const element = document.querySelector('#df-7dccb58f-36d0-4710-9c17-e85a63474624');\n",
              "          const dataTable =\n",
              "            await google.colab.kernel.invokeFunction('convertToInteractive',\n",
              "                                                     [key], {});\n",
              "          if (!dataTable) return;\n",
              "\n",
              "          const docLinkHtml = 'Like what you see? Visit the ' +\n",
              "            '<a target=\"_blank\" href=https://colab.research.google.com/notebooks/data_table.ipynb>data table notebook</a>'\n",
              "            + ' to learn more about interactive tables.';\n",
              "          element.innerHTML = '';\n",
              "          dataTable['output_type'] = 'display_data';\n",
              "          await google.colab.output.renderOutput(dataTable, element);\n",
              "          const docLink = document.createElement('div');\n",
              "          docLink.innerHTML = docLinkHtml;\n",
              "          element.appendChild(docLink);\n",
              "        }\n",
              "      </script>\n",
              "    </div>\n",
              "  </div>\n",
              "  "
            ]
          },
          "metadata": {},
          "execution_count": 31
        }
      ]
    },
    {
      "cell_type": "code",
      "source": [
        "X=data.drop('TenYearCHD',axis=1)"
      ],
      "metadata": {
        "id": "2VbViljWPbJz"
      },
      "execution_count": 32,
      "outputs": []
    },
    {
      "cell_type": "code",
      "source": [
        "y=data[['TenYearCHD']]"
      ],
      "metadata": {
        "id": "PUs4i02ZPo_c"
      },
      "execution_count": 33,
      "outputs": []
    },
    {
      "cell_type": "code",
      "source": [
        "X.shape,y.shape"
      ],
      "metadata": {
        "colab": {
          "base_uri": "https://localhost:8080/"
        },
        "id": "XyaA3OopPpBE",
        "outputId": "5a7fb6d1-1ac3-4035-f322-377bd9759858"
      },
      "execution_count": 34,
      "outputs": [
        {
          "output_type": "execute_result",
          "data": {
            "text/plain": [
              "((5721, 8), (5721, 1))"
            ]
          },
          "metadata": {},
          "execution_count": 34
        }
      ]
    },
    {
      "cell_type": "code",
      "source": [
        "from sklearn.model_selection import train_test_split"
      ],
      "metadata": {
        "id": "C3E8IC0qPpCp"
      },
      "execution_count": 35,
      "outputs": []
    },
    {
      "cell_type": "code",
      "source": [
        "X_train,X_test,y_train,y_test=train_test_split(X,y,test_size=0.2,shuffle=True)"
      ],
      "metadata": {
        "id": "LTx576dFPpEr"
      },
      "execution_count": 36,
      "outputs": []
    },
    {
      "cell_type": "code",
      "source": [
        "(X_train.shape,y_train.shape),(X_test.shape,y_test.shape)"
      ],
      "metadata": {
        "colab": {
          "base_uri": "https://localhost:8080/"
        },
        "id": "_w9LuOMmPpGj",
        "outputId": "416b2934-4823-48c9-dcc3-9d8567c7aeef"
      },
      "execution_count": 37,
      "outputs": [
        {
          "output_type": "execute_result",
          "data": {
            "text/plain": [
              "(((4576, 8), (4576, 1)), ((1145, 8), (1145, 1)))"
            ]
          },
          "metadata": {},
          "execution_count": 37
        }
      ]
    },
    {
      "cell_type": "code",
      "source": [
        "from sklearn.linear_model import LogisticRegression"
      ],
      "metadata": {
        "id": "dpBLlFMkPpI1"
      },
      "execution_count": 38,
      "outputs": []
    },
    {
      "cell_type": "code",
      "source": [
        "model=LogisticRegression()"
      ],
      "metadata": {
        "id": "ksQ46wr3PpK6"
      },
      "execution_count": 39,
      "outputs": []
    },
    {
      "cell_type": "code",
      "source": [
        "model.fit(X_train,y_train)"
      ],
      "metadata": {
        "colab": {
          "base_uri": "https://localhost:8080/"
        },
        "id": "PeU8V9R0PpMZ",
        "outputId": "1f37f592-2390-4463-8ace-f2782ca728da"
      },
      "execution_count": 40,
      "outputs": [
        {
          "output_type": "stream",
          "name": "stderr",
          "text": [
            "/usr/local/lib/python3.7/dist-packages/sklearn/utils/validation.py:993: DataConversionWarning: A column-vector y was passed when a 1d array was expected. Please change the shape of y to (n_samples, ), for example using ravel().\n",
            "  y = column_or_1d(y, warn=True)\n",
            "/usr/local/lib/python3.7/dist-packages/sklearn/linear_model/_logistic.py:818: ConvergenceWarning: lbfgs failed to converge (status=1):\n",
            "STOP: TOTAL NO. of ITERATIONS REACHED LIMIT.\n",
            "\n",
            "Increase the number of iterations (max_iter) or scale the data as shown in:\n",
            "    https://scikit-learn.org/stable/modules/preprocessing.html\n",
            "Please also refer to the documentation for alternative solver options:\n",
            "    https://scikit-learn.org/stable/modules/linear_model.html#logistic-regression\n",
            "  extra_warning_msg=_LOGISTIC_SOLVER_CONVERGENCE_MSG,\n"
          ]
        },
        {
          "output_type": "execute_result",
          "data": {
            "text/plain": [
              "LogisticRegression()"
            ]
          },
          "metadata": {},
          "execution_count": 40
        }
      ]
    },
    {
      "cell_type": "code",
      "source": [
        "import numpy as np"
      ],
      "metadata": {
        "id": "7dn4d_iiPpP6"
      },
      "execution_count": 41,
      "outputs": []
    },
    {
      "cell_type": "code",
      "source": [
        "predictions=model.predict(X_test)"
      ],
      "metadata": {
        "id": "9SWZ3j2wQ638"
      },
      "execution_count": 42,
      "outputs": []
    },
    {
      "cell_type": "code",
      "source": [
        "from sklearn.metrics import accuracy_score"
      ],
      "metadata": {
        "id": "kAIPc431Q66a"
      },
      "execution_count": 43,
      "outputs": []
    },
    {
      "cell_type": "code",
      "source": [
        "accuracy_score(y_test,predictions)"
      ],
      "metadata": {
        "colab": {
          "base_uri": "https://localhost:8080/"
        },
        "id": "264xEz_LQ67y",
        "outputId": "aea279af-64fe-4292-88aa-b0703649ff9e"
      },
      "execution_count": 44,
      "outputs": [
        {
          "output_type": "execute_result",
          "data": {
            "text/plain": [
              "0.6602620087336245"
            ]
          },
          "metadata": {},
          "execution_count": 44
        }
      ]
    },
    {
      "cell_type": "code",
      "source": [
        "import pickle \n",
        "pickle_out=open('Classifier.pkl','wb')\n",
        "pickle.dump(model,pickle_out)\n",
        "pickle_out.close()"
      ],
      "metadata": {
        "id": "G3Vtkw3ORjWf"
      },
      "execution_count": 45,
      "outputs": []
    },
    {
      "cell_type": "code",
      "source": [
        "%%writefile Disease.py\n",
        "import streamlit as st\n",
        "import pickle\n",
        "\n",
        "pickle_in=open('Classifier.pkl','rb')\n",
        "clf=pickle.load(pickle_in)\n",
        "\n",
        "a=st.number_input('AGE')\n",
        "b=st.number_input('CIGS PER DAY')\n",
        "c=st.number_input('TOT CHOL')\n",
        "d=st.number_input('SYSTOLOC BP')\n",
        "e=st.number_input('DISTOLIC BP')\n",
        "f=st.number_input('BMI')\n",
        "g=st.number_input('HEART RATE')\n",
        "h=st.number_input('GLUCOSE')\n",
        "\n",
        "r=''\n",
        "if st.button('PREDICT'):\n",
        "    result=clf.predict([[a,b,c,d,e,f,g,h]]).squeeze()\n",
        "    if result==0:\n",
        "        st.success('YOUR RISK IS LOW')\n",
        "    else:\n",
        "        st.success('YOUR RISK IS HIGH')\n",
        "      "
      ],
      "metadata": {
        "colab": {
          "base_uri": "https://localhost:8080/"
        },
        "id": "a6be8pasRjZx",
        "outputId": "0eb61612-d4f0-4a5b-8154-450dc2238a0e"
      },
      "execution_count": 46,
      "outputs": [
        {
          "output_type": "stream",
          "name": "stdout",
          "text": [
            "Overwriting Disease.py\n"
          ]
        }
      ]
    },
    {
      "cell_type": "code",
      "source": [
        "!pip install -q streamlit\n",
        "!pip install -q pyngrok"
      ],
      "metadata": {
        "id": "CrVD5Y2PQ69c"
      },
      "execution_count": 47,
      "outputs": []
    },
    {
      "cell_type": "code",
      "source": [
        "!ngrok authtoken 26bG99fmClCKZOcSSfIYk6toptq_7sfWNwRR3rAvmQ9cdqut"
      ],
      "metadata": {
        "colab": {
          "base_uri": "https://localhost:8080/"
        },
        "id": "22oOKO-wQ7Ax",
        "outputId": "36cb0b91-cccc-419a-97e6-764bfb54fa5b"
      },
      "execution_count": 48,
      "outputs": [
        {
          "output_type": "stream",
          "name": "stdout",
          "text": [
            "Authtoken saved to configuration file: /root/.ngrok2/ngrok.yml\n"
          ]
        }
      ]
    },
    {
      "cell_type": "code",
      "source": [
        "!streamlit run Disease.py &>/dev/null &"
      ],
      "metadata": {
        "id": "6wDff4XrU4fP"
      },
      "execution_count": 49,
      "outputs": []
    },
    {
      "cell_type": "code",
      "source": [
        "from pyngrok import ngrok\n",
        "public_url=ngrok.connect('8501')\n",
        "public_url"
      ],
      "metadata": {
        "colab": {
          "base_uri": "https://localhost:8080/",
          "height": 435
        },
        "id": "0ShC1zZQU4lD",
        "outputId": "4988fc2a-95e5-4f49-f3b5-b771db5356da"
      },
      "execution_count": 51,
      "outputs": [
        {
          "output_type": "stream",
          "name": "stderr",
          "text": [
            "t=2022-08-05T05:27:58+0000 lvl=eror msg=\"failed to auth\" obj=tunnels.session err=\"Your account is limited to 1 simultaneous ngrok agent session.\\nActive ngrok agent sessions in region 'us':\\n  - ts_2CvJQ0bkZXpT342DHYX9H5CYYfV (35.221.26.113)\\r\\n\\r\\nERR_NGROK_108\\r\\n\"\n",
            "t=2022-08-05T05:27:58+0000 lvl=eror msg=\"failed to reconnect session\" obj=csess id=631890668b0a err=\"Your account is limited to 1 simultaneous ngrok agent session.\\nActive ngrok agent sessions in region 'us':\\n  - ts_2CvJQ0bkZXpT342DHYX9H5CYYfV (35.221.26.113)\\r\\n\\r\\nERR_NGROK_108\\r\\n\"\n",
            "t=2022-08-05T05:27:58+0000 lvl=eror msg=\"session closing\" obj=tunnels.session err=\"Your account is limited to 1 simultaneous ngrok agent session.\\nActive ngrok agent sessions in region 'us':\\n  - ts_2CvJQ0bkZXpT342DHYX9H5CYYfV (35.221.26.113)\\r\\n\\r\\nERR_NGROK_108\\r\\n\"\n"
          ]
        },
        {
          "output_type": "error",
          "ename": "PyngrokNgrokError",
          "evalue": "ignored",
          "traceback": [
            "\u001b[0;31m---------------------------------------------------------------------------\u001b[0m",
            "\u001b[0;31mPyngrokNgrokError\u001b[0m                         Traceback (most recent call last)",
            "\u001b[0;32m<ipython-input-51-6e8567788d8f>\u001b[0m in \u001b[0;36m<module>\u001b[0;34m()\u001b[0m\n\u001b[1;32m      1\u001b[0m \u001b[0;32mfrom\u001b[0m \u001b[0mpyngrok\u001b[0m \u001b[0;32mimport\u001b[0m \u001b[0mngrok\u001b[0m\u001b[0;34m\u001b[0m\u001b[0;34m\u001b[0m\u001b[0m\n\u001b[0;32m----> 2\u001b[0;31m \u001b[0mpublic_url\u001b[0m\u001b[0;34m=\u001b[0m\u001b[0mngrok\u001b[0m\u001b[0;34m.\u001b[0m\u001b[0mconnect\u001b[0m\u001b[0;34m(\u001b[0m\u001b[0;34m'8501'\u001b[0m\u001b[0;34m)\u001b[0m\u001b[0;34m\u001b[0m\u001b[0;34m\u001b[0m\u001b[0m\n\u001b[0m\u001b[1;32m      3\u001b[0m \u001b[0mpublic_url\u001b[0m\u001b[0;34m\u001b[0m\u001b[0;34m\u001b[0m\u001b[0m\n",
            "\u001b[0;32m/usr/local/lib/python3.7/dist-packages/pyngrok/ngrok.py\u001b[0m in \u001b[0;36mconnect\u001b[0;34m(addr, proto, name, pyngrok_config, **options)\u001b[0m\n\u001b[1;32m    249\u001b[0m     \u001b[0moptions\u001b[0m\u001b[0;34m.\u001b[0m\u001b[0mupdate\u001b[0m\u001b[0;34m(\u001b[0m\u001b[0mconfig\u001b[0m\u001b[0;34m)\u001b[0m\u001b[0;34m\u001b[0m\u001b[0;34m\u001b[0m\u001b[0m\n\u001b[1;32m    250\u001b[0m \u001b[0;34m\u001b[0m\u001b[0m\n\u001b[0;32m--> 251\u001b[0;31m     \u001b[0mapi_url\u001b[0m \u001b[0;34m=\u001b[0m \u001b[0mget_ngrok_process\u001b[0m\u001b[0;34m(\u001b[0m\u001b[0mpyngrok_config\u001b[0m\u001b[0;34m)\u001b[0m\u001b[0;34m.\u001b[0m\u001b[0mapi_url\u001b[0m\u001b[0;34m\u001b[0m\u001b[0;34m\u001b[0m\u001b[0m\n\u001b[0m\u001b[1;32m    252\u001b[0m \u001b[0;34m\u001b[0m\u001b[0m\n\u001b[1;32m    253\u001b[0m     \u001b[0mlogger\u001b[0m\u001b[0;34m.\u001b[0m\u001b[0mdebug\u001b[0m\u001b[0;34m(\u001b[0m\u001b[0;34m\"Creating tunnel with options: {}\"\u001b[0m\u001b[0;34m.\u001b[0m\u001b[0mformat\u001b[0m\u001b[0;34m(\u001b[0m\u001b[0moptions\u001b[0m\u001b[0;34m)\u001b[0m\u001b[0;34m)\u001b[0m\u001b[0;34m\u001b[0m\u001b[0;34m\u001b[0m\u001b[0m\n",
            "\u001b[0;32m/usr/local/lib/python3.7/dist-packages/pyngrok/ngrok.py\u001b[0m in \u001b[0;36mget_ngrok_process\u001b[0;34m(pyngrok_config)\u001b[0m\n\u001b[1;32m    160\u001b[0m     \u001b[0minstall_ngrok\u001b[0m\u001b[0;34m(\u001b[0m\u001b[0mpyngrok_config\u001b[0m\u001b[0;34m)\u001b[0m\u001b[0;34m\u001b[0m\u001b[0;34m\u001b[0m\u001b[0m\n\u001b[1;32m    161\u001b[0m \u001b[0;34m\u001b[0m\u001b[0m\n\u001b[0;32m--> 162\u001b[0;31m     \u001b[0;32mreturn\u001b[0m \u001b[0mprocess\u001b[0m\u001b[0;34m.\u001b[0m\u001b[0mget_process\u001b[0m\u001b[0;34m(\u001b[0m\u001b[0mpyngrok_config\u001b[0m\u001b[0;34m)\u001b[0m\u001b[0;34m\u001b[0m\u001b[0;34m\u001b[0m\u001b[0m\n\u001b[0m\u001b[1;32m    163\u001b[0m \u001b[0;34m\u001b[0m\u001b[0m\n\u001b[1;32m    164\u001b[0m \u001b[0;34m\u001b[0m\u001b[0m\n",
            "\u001b[0;32m/usr/local/lib/python3.7/dist-packages/pyngrok/process.py\u001b[0m in \u001b[0;36mget_process\u001b[0;34m(pyngrok_config)\u001b[0m\n\u001b[1;32m    293\u001b[0m         \u001b[0;32mreturn\u001b[0m \u001b[0m_current_processes\u001b[0m\u001b[0;34m[\u001b[0m\u001b[0mpyngrok_config\u001b[0m\u001b[0;34m.\u001b[0m\u001b[0mngrok_path\u001b[0m\u001b[0;34m]\u001b[0m\u001b[0;34m\u001b[0m\u001b[0;34m\u001b[0m\u001b[0m\n\u001b[1;32m    294\u001b[0m \u001b[0;34m\u001b[0m\u001b[0m\n\u001b[0;32m--> 295\u001b[0;31m     \u001b[0;32mreturn\u001b[0m \u001b[0m_start_process\u001b[0m\u001b[0;34m(\u001b[0m\u001b[0mpyngrok_config\u001b[0m\u001b[0;34m)\u001b[0m\u001b[0;34m\u001b[0m\u001b[0;34m\u001b[0m\u001b[0m\n\u001b[0m\u001b[1;32m    296\u001b[0m \u001b[0;34m\u001b[0m\u001b[0m\n\u001b[1;32m    297\u001b[0m \u001b[0;34m\u001b[0m\u001b[0m\n",
            "\u001b[0;32m/usr/local/lib/python3.7/dist-packages/pyngrok/process.py\u001b[0m in \u001b[0;36m_start_process\u001b[0;34m(pyngrok_config)\u001b[0m\n\u001b[1;32m    464\u001b[0m             raise PyngrokNgrokError(\"The ngrok process errored on start: {}.\".format(ngrok_process.startup_error),\n\u001b[1;32m    465\u001b[0m                                     \u001b[0mngrok_process\u001b[0m\u001b[0;34m.\u001b[0m\u001b[0mlogs\u001b[0m\u001b[0;34m,\u001b[0m\u001b[0;34m\u001b[0m\u001b[0;34m\u001b[0m\u001b[0m\n\u001b[0;32m--> 466\u001b[0;31m                                     ngrok_process.startup_error)\n\u001b[0m\u001b[1;32m    467\u001b[0m         \u001b[0;32melse\u001b[0m\u001b[0;34m:\u001b[0m\u001b[0;34m\u001b[0m\u001b[0;34m\u001b[0m\u001b[0m\n\u001b[1;32m    468\u001b[0m             \u001b[0;32mraise\u001b[0m \u001b[0mPyngrokNgrokError\u001b[0m\u001b[0;34m(\u001b[0m\u001b[0;34m\"The ngrok process was unable to start.\"\u001b[0m\u001b[0;34m,\u001b[0m \u001b[0mngrok_process\u001b[0m\u001b[0;34m.\u001b[0m\u001b[0mlogs\u001b[0m\u001b[0;34m)\u001b[0m\u001b[0;34m\u001b[0m\u001b[0;34m\u001b[0m\u001b[0m\n",
            "\u001b[0;31mPyngrokNgrokError\u001b[0m: The ngrok process errored on start: Your account is limited to 1 simultaneous ngrok agent session.\\nActive ngrok agent sessions in region 'us':\\n  - ts_2CvJQ0bkZXpT342DHYX9H5CYYfV (35.221.26.113)\\r\\n\\r\\nERR_NGROK_108\\r\\n."
          ]
        }
      ]
    },
    {
      "cell_type": "code",
      "source": [
        "'''%%writefile app.py\n",
        "import streamlit as st\n",
        "st.success('HII')'''"
      ],
      "metadata": {
        "id": "JiMDaimaYCmS"
      },
      "execution_count": null,
      "outputs": []
    }
  ]
}